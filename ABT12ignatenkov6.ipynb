{
  "nbformat": 4,
  "nbformat_minor": 0,
  "metadata": {
    "colab": {
      "name": "ABT12ignatenkov6.ipynb",
      "provenance": [],
      "collapsed_sections": [],
      "authorship_tag": "ABX9TyM+UNXfEpTvHOl/ysuTkzSE",
      "include_colab_link": true
    },
    "kernelspec": {
      "name": "python3",
      "display_name": "Python 3"
    },
    "language_info": {
      "name": "python"
    }
  },
  "cells": [
    {
      "cell_type": "markdown",
      "metadata": {
        "id": "view-in-github",
        "colab_type": "text"
      },
      "source": [
        "<a href=\"https://colab.research.google.com/github/HdemonKhaim/Python_Homeworks/blob/main/ABT12ignatenkov6.ipynb\" target=\"_parent\"><img src=\"https://colab.research.google.com/assets/colab-badge.svg\" alt=\"Open In Colab\"/></a>"
      ]
    },
    {
      "cell_type": "code",
      "source": [
        "import numpy as np\n",
        "import pandas as pd\n",
        "import scipy.stats as stats\n",
        "import math\n",
        "import matplotlib.pyplot as plt\n",
        "import seaborn as sns"
      ],
      "metadata": {
        "id": "ScsIofFiqP-R"
      },
      "execution_count": 15,
      "outputs": []
    },
    {
      "cell_type": "code",
      "source": [
        "gett_df = pd.read_csv('post_abtest_data.csv')\n",
        "gett_df.head()"
      ],
      "metadata": {
        "colab": {
          "base_uri": "https://localhost:8080/",
          "height": 206
        },
        "id": "c4AzmlCcqgEB",
        "outputId": "4f4e77ea-4165-4af5-a2fb-052fbc02de41"
      },
      "execution_count": 16,
      "outputs": [
        {
          "output_type": "execute_result",
          "data": {
            "text/plain": [
              "   user_id        date  app_opened    group  price_seen  order_made     surge  \\\n",
              "0   867689  2020-05-28           1  Control           1           1  no surge   \n",
              "1   867689  2020-05-29           1  Control           1           0     surge   \n",
              "2   867689  2020-05-25           1  Control           1           1     surge   \n",
              "3   752172  2020-05-29           1  Control           1           1     surge   \n",
              "4   752172  2020-05-28           1  Control           1           1  no surge   \n",
              "\n",
              "        os  user_cancelled  city_center_order   groups  \n",
              "0  Android             0.0                1.0  Control  \n",
              "1      iOS             NaN                NaN  Control  \n",
              "2  Android             0.0                0.0  Control  \n",
              "3  Android             0.0                1.0  Control  \n",
              "4      iOS             0.0                0.0  Control  "
            ],
            "text/html": [
              "\n",
              "  <div id=\"df-0a575c62-b6e4-4c90-9f8d-c3382aa52d43\">\n",
              "    <div class=\"colab-df-container\">\n",
              "      <div>\n",
              "<style scoped>\n",
              "    .dataframe tbody tr th:only-of-type {\n",
              "        vertical-align: middle;\n",
              "    }\n",
              "\n",
              "    .dataframe tbody tr th {\n",
              "        vertical-align: top;\n",
              "    }\n",
              "\n",
              "    .dataframe thead th {\n",
              "        text-align: right;\n",
              "    }\n",
              "</style>\n",
              "<table border=\"1\" class=\"dataframe\">\n",
              "  <thead>\n",
              "    <tr style=\"text-align: right;\">\n",
              "      <th></th>\n",
              "      <th>user_id</th>\n",
              "      <th>date</th>\n",
              "      <th>app_opened</th>\n",
              "      <th>group</th>\n",
              "      <th>price_seen</th>\n",
              "      <th>order_made</th>\n",
              "      <th>surge</th>\n",
              "      <th>os</th>\n",
              "      <th>user_cancelled</th>\n",
              "      <th>city_center_order</th>\n",
              "      <th>groups</th>\n",
              "    </tr>\n",
              "  </thead>\n",
              "  <tbody>\n",
              "    <tr>\n",
              "      <th>0</th>\n",
              "      <td>867689</td>\n",
              "      <td>2020-05-28</td>\n",
              "      <td>1</td>\n",
              "      <td>Control</td>\n",
              "      <td>1</td>\n",
              "      <td>1</td>\n",
              "      <td>no surge</td>\n",
              "      <td>Android</td>\n",
              "      <td>0.0</td>\n",
              "      <td>1.0</td>\n",
              "      <td>Control</td>\n",
              "    </tr>\n",
              "    <tr>\n",
              "      <th>1</th>\n",
              "      <td>867689</td>\n",
              "      <td>2020-05-29</td>\n",
              "      <td>1</td>\n",
              "      <td>Control</td>\n",
              "      <td>1</td>\n",
              "      <td>0</td>\n",
              "      <td>surge</td>\n",
              "      <td>iOS</td>\n",
              "      <td>NaN</td>\n",
              "      <td>NaN</td>\n",
              "      <td>Control</td>\n",
              "    </tr>\n",
              "    <tr>\n",
              "      <th>2</th>\n",
              "      <td>867689</td>\n",
              "      <td>2020-05-25</td>\n",
              "      <td>1</td>\n",
              "      <td>Control</td>\n",
              "      <td>1</td>\n",
              "      <td>1</td>\n",
              "      <td>surge</td>\n",
              "      <td>Android</td>\n",
              "      <td>0.0</td>\n",
              "      <td>0.0</td>\n",
              "      <td>Control</td>\n",
              "    </tr>\n",
              "    <tr>\n",
              "      <th>3</th>\n",
              "      <td>752172</td>\n",
              "      <td>2020-05-29</td>\n",
              "      <td>1</td>\n",
              "      <td>Control</td>\n",
              "      <td>1</td>\n",
              "      <td>1</td>\n",
              "      <td>surge</td>\n",
              "      <td>Android</td>\n",
              "      <td>0.0</td>\n",
              "      <td>1.0</td>\n",
              "      <td>Control</td>\n",
              "    </tr>\n",
              "    <tr>\n",
              "      <th>4</th>\n",
              "      <td>752172</td>\n",
              "      <td>2020-05-28</td>\n",
              "      <td>1</td>\n",
              "      <td>Control</td>\n",
              "      <td>1</td>\n",
              "      <td>1</td>\n",
              "      <td>no surge</td>\n",
              "      <td>iOS</td>\n",
              "      <td>0.0</td>\n",
              "      <td>0.0</td>\n",
              "      <td>Control</td>\n",
              "    </tr>\n",
              "  </tbody>\n",
              "</table>\n",
              "</div>\n",
              "      <button class=\"colab-df-convert\" onclick=\"convertToInteractive('df-0a575c62-b6e4-4c90-9f8d-c3382aa52d43')\"\n",
              "              title=\"Convert this dataframe to an interactive table.\"\n",
              "              style=\"display:none;\">\n",
              "        \n",
              "  <svg xmlns=\"http://www.w3.org/2000/svg\" height=\"24px\"viewBox=\"0 0 24 24\"\n",
              "       width=\"24px\">\n",
              "    <path d=\"M0 0h24v24H0V0z\" fill=\"none\"/>\n",
              "    <path d=\"M18.56 5.44l.94 2.06.94-2.06 2.06-.94-2.06-.94-.94-2.06-.94 2.06-2.06.94zm-11 1L8.5 8.5l.94-2.06 2.06-.94-2.06-.94L8.5 2.5l-.94 2.06-2.06.94zm10 10l.94 2.06.94-2.06 2.06-.94-2.06-.94-.94-2.06-.94 2.06-2.06.94z\"/><path d=\"M17.41 7.96l-1.37-1.37c-.4-.4-.92-.59-1.43-.59-.52 0-1.04.2-1.43.59L10.3 9.45l-7.72 7.72c-.78.78-.78 2.05 0 2.83L4 21.41c.39.39.9.59 1.41.59.51 0 1.02-.2 1.41-.59l7.78-7.78 2.81-2.81c.8-.78.8-2.07 0-2.86zM5.41 20L4 18.59l7.72-7.72 1.47 1.35L5.41 20z\"/>\n",
              "  </svg>\n",
              "      </button>\n",
              "      \n",
              "  <style>\n",
              "    .colab-df-container {\n",
              "      display:flex;\n",
              "      flex-wrap:wrap;\n",
              "      gap: 12px;\n",
              "    }\n",
              "\n",
              "    .colab-df-convert {\n",
              "      background-color: #E8F0FE;\n",
              "      border: none;\n",
              "      border-radius: 50%;\n",
              "      cursor: pointer;\n",
              "      display: none;\n",
              "      fill: #1967D2;\n",
              "      height: 32px;\n",
              "      padding: 0 0 0 0;\n",
              "      width: 32px;\n",
              "    }\n",
              "\n",
              "    .colab-df-convert:hover {\n",
              "      background-color: #E2EBFA;\n",
              "      box-shadow: 0px 1px 2px rgba(60, 64, 67, 0.3), 0px 1px 3px 1px rgba(60, 64, 67, 0.15);\n",
              "      fill: #174EA6;\n",
              "    }\n",
              "\n",
              "    [theme=dark] .colab-df-convert {\n",
              "      background-color: #3B4455;\n",
              "      fill: #D2E3FC;\n",
              "    }\n",
              "\n",
              "    [theme=dark] .colab-df-convert:hover {\n",
              "      background-color: #434B5C;\n",
              "      box-shadow: 0px 1px 3px 1px rgba(0, 0, 0, 0.15);\n",
              "      filter: drop-shadow(0px 1px 2px rgba(0, 0, 0, 0.3));\n",
              "      fill: #FFFFFF;\n",
              "    }\n",
              "  </style>\n",
              "\n",
              "      <script>\n",
              "        const buttonEl =\n",
              "          document.querySelector('#df-0a575c62-b6e4-4c90-9f8d-c3382aa52d43 button.colab-df-convert');\n",
              "        buttonEl.style.display =\n",
              "          google.colab.kernel.accessAllowed ? 'block' : 'none';\n",
              "\n",
              "        async function convertToInteractive(key) {\n",
              "          const element = document.querySelector('#df-0a575c62-b6e4-4c90-9f8d-c3382aa52d43');\n",
              "          const dataTable =\n",
              "            await google.colab.kernel.invokeFunction('convertToInteractive',\n",
              "                                                     [key], {});\n",
              "          if (!dataTable) return;\n",
              "\n",
              "          const docLinkHtml = 'Like what you see? Visit the ' +\n",
              "            '<a target=\"_blank\" href=https://colab.research.google.com/notebooks/data_table.ipynb>data table notebook</a>'\n",
              "            + ' to learn more about interactive tables.';\n",
              "          element.innerHTML = '';\n",
              "          dataTable['output_type'] = 'display_data';\n",
              "          await google.colab.output.renderOutput(dataTable, element);\n",
              "          const docLink = document.createElement('div');\n",
              "          docLink.innerHTML = docLinkHtml;\n",
              "          element.appendChild(docLink);\n",
              "        }\n",
              "      </script>\n",
              "    </div>\n",
              "  </div>\n",
              "  "
            ]
          },
          "metadata": {},
          "execution_count": 16
        }
      ]
    },
    {
      "cell_type": "code",
      "source": [
        "print(gett_df.shape) \n",
        "gett_df.info()"
      ],
      "metadata": {
        "colab": {
          "base_uri": "https://localhost:8080/"
        },
        "id": "Dye-b1wVudjs",
        "outputId": "8db98f2b-e9bd-4a84-fef0-c8d79ddac642"
      },
      "execution_count": 17,
      "outputs": [
        {
          "output_type": "stream",
          "name": "stdout",
          "text": [
            "(101500, 11)\n",
            "<class 'pandas.core.frame.DataFrame'>\n",
            "RangeIndex: 101500 entries, 0 to 101499\n",
            "Data columns (total 11 columns):\n",
            " #   Column             Non-Null Count   Dtype  \n",
            "---  ------             --------------   -----  \n",
            " 0   user_id            101500 non-null  int64  \n",
            " 1   date               101500 non-null  object \n",
            " 2   app_opened         101500 non-null  int64  \n",
            " 3   group              101500 non-null  object \n",
            " 4   price_seen         101500 non-null  int64  \n",
            " 5   order_made         101500 non-null  int64  \n",
            " 6   surge              92358 non-null   object \n",
            " 7   os                 101500 non-null  object \n",
            " 8   user_cancelled     70157 non-null   float64\n",
            " 9   city_center_order  70157 non-null   float64\n",
            " 10  groups             101500 non-null  object \n",
            "dtypes: float64(2), int64(4), object(5)\n",
            "memory usage: 8.5+ MB\n"
          ]
        }
      ]
    },
    {
      "cell_type": "code",
      "source": [
        "gett_df['surge'] = gett_df['surge'].fillna('no surge')# заменяем NaN на 'no surge'\n",
        "gett_df['user_cancelled'] = gett_df['user_cancelled'].fillna('0')# заменяем NaN на '0' \n",
        "gett_df['city_center_order'] = gett_df['city_center_order'].fillna('0')\n",
        "gett_df = gett_df.astype({'user_cancelled': np.int}) #меняем тип данных user_cancelled на числовой\n",
        "gett_df = gett_df.astype({'city_center_order': np.int}) #меняем тип данных city_center_order на числовой\n",
        "gett_df.info()"
      ],
      "metadata": {
        "colab": {
          "base_uri": "https://localhost:8080/"
        },
        "id": "xm_Yp0Mbt8oD",
        "outputId": "f38e514c-39cd-43e6-8d86-3102a3d8ba2c"
      },
      "execution_count": 18,
      "outputs": [
        {
          "output_type": "stream",
          "name": "stdout",
          "text": [
            "<class 'pandas.core.frame.DataFrame'>\n",
            "RangeIndex: 101500 entries, 0 to 101499\n",
            "Data columns (total 11 columns):\n",
            " #   Column             Non-Null Count   Dtype \n",
            "---  ------             --------------   ----- \n",
            " 0   user_id            101500 non-null  int64 \n",
            " 1   date               101500 non-null  object\n",
            " 2   app_opened         101500 non-null  int64 \n",
            " 3   group              101500 non-null  object\n",
            " 4   price_seen         101500 non-null  int64 \n",
            " 5   order_made         101500 non-null  int64 \n",
            " 6   surge              101500 non-null  object\n",
            " 7   os                 101500 non-null  object\n",
            " 8   user_cancelled     101500 non-null  int64 \n",
            " 9   city_center_order  101500 non-null  int64 \n",
            " 10  groups             101500 non-null  object\n",
            "dtypes: int64(6), object(5)\n",
            "memory usage: 8.5+ MB\n"
          ]
        },
        {
          "output_type": "stream",
          "name": "stderr",
          "text": [
            "/usr/local/lib/python3.7/dist-packages/ipykernel_launcher.py:4: DeprecationWarning: `np.int` is a deprecated alias for the builtin `int`. To silence this warning, use `int` by itself. Doing this will not modify any behavior and is safe. When replacing `np.int`, you may wish to use e.g. `np.int64` or `np.int32` to specify the precision. If you wish to review your current use, check the release note link for additional information.\n",
            "Deprecated in NumPy 1.20; for more details and guidance: https://numpy.org/devdocs/release/1.20.0-notes.html#deprecations\n",
            "  after removing the cwd from sys.path.\n",
            "/usr/local/lib/python3.7/dist-packages/ipykernel_launcher.py:5: DeprecationWarning: `np.int` is a deprecated alias for the builtin `int`. To silence this warning, use `int` by itself. Doing this will not modify any behavior and is safe. When replacing `np.int`, you may wish to use e.g. `np.int64` or `np.int32` to specify the precision. If you wish to review your current use, check the release note link for additional information.\n",
            "Deprecated in NumPy 1.20; for more details and guidance: https://numpy.org/devdocs/release/1.20.0-notes.html#deprecations\n",
            "  \"\"\"\n"
          ]
        }
      ]
    },
    {
      "cell_type": "code",
      "source": [
        "gett_df.head()"
      ],
      "metadata": {
        "colab": {
          "base_uri": "https://localhost:8080/",
          "height": 206
        },
        "id": "54aF1Wx_vLwV",
        "outputId": "57c7c930-8a2a-4b15-aeae-7e8a3e9574f4"
      },
      "execution_count": 19,
      "outputs": [
        {
          "output_type": "execute_result",
          "data": {
            "text/plain": [
              "   user_id        date  app_opened    group  price_seen  order_made     surge  \\\n",
              "0   867689  2020-05-28           1  Control           1           1  no surge   \n",
              "1   867689  2020-05-29           1  Control           1           0     surge   \n",
              "2   867689  2020-05-25           1  Control           1           1     surge   \n",
              "3   752172  2020-05-29           1  Control           1           1     surge   \n",
              "4   752172  2020-05-28           1  Control           1           1  no surge   \n",
              "\n",
              "        os  user_cancelled  city_center_order   groups  \n",
              "0  Android               0                  1  Control  \n",
              "1      iOS               0                  0  Control  \n",
              "2  Android               0                  0  Control  \n",
              "3  Android               0                  1  Control  \n",
              "4      iOS               0                  0  Control  "
            ],
            "text/html": [
              "\n",
              "  <div id=\"df-6990eaa8-efc4-4c96-b010-5bcbc6889acf\">\n",
              "    <div class=\"colab-df-container\">\n",
              "      <div>\n",
              "<style scoped>\n",
              "    .dataframe tbody tr th:only-of-type {\n",
              "        vertical-align: middle;\n",
              "    }\n",
              "\n",
              "    .dataframe tbody tr th {\n",
              "        vertical-align: top;\n",
              "    }\n",
              "\n",
              "    .dataframe thead th {\n",
              "        text-align: right;\n",
              "    }\n",
              "</style>\n",
              "<table border=\"1\" class=\"dataframe\">\n",
              "  <thead>\n",
              "    <tr style=\"text-align: right;\">\n",
              "      <th></th>\n",
              "      <th>user_id</th>\n",
              "      <th>date</th>\n",
              "      <th>app_opened</th>\n",
              "      <th>group</th>\n",
              "      <th>price_seen</th>\n",
              "      <th>order_made</th>\n",
              "      <th>surge</th>\n",
              "      <th>os</th>\n",
              "      <th>user_cancelled</th>\n",
              "      <th>city_center_order</th>\n",
              "      <th>groups</th>\n",
              "    </tr>\n",
              "  </thead>\n",
              "  <tbody>\n",
              "    <tr>\n",
              "      <th>0</th>\n",
              "      <td>867689</td>\n",
              "      <td>2020-05-28</td>\n",
              "      <td>1</td>\n",
              "      <td>Control</td>\n",
              "      <td>1</td>\n",
              "      <td>1</td>\n",
              "      <td>no surge</td>\n",
              "      <td>Android</td>\n",
              "      <td>0</td>\n",
              "      <td>1</td>\n",
              "      <td>Control</td>\n",
              "    </tr>\n",
              "    <tr>\n",
              "      <th>1</th>\n",
              "      <td>867689</td>\n",
              "      <td>2020-05-29</td>\n",
              "      <td>1</td>\n",
              "      <td>Control</td>\n",
              "      <td>1</td>\n",
              "      <td>0</td>\n",
              "      <td>surge</td>\n",
              "      <td>iOS</td>\n",
              "      <td>0</td>\n",
              "      <td>0</td>\n",
              "      <td>Control</td>\n",
              "    </tr>\n",
              "    <tr>\n",
              "      <th>2</th>\n",
              "      <td>867689</td>\n",
              "      <td>2020-05-25</td>\n",
              "      <td>1</td>\n",
              "      <td>Control</td>\n",
              "      <td>1</td>\n",
              "      <td>1</td>\n",
              "      <td>surge</td>\n",
              "      <td>Android</td>\n",
              "      <td>0</td>\n",
              "      <td>0</td>\n",
              "      <td>Control</td>\n",
              "    </tr>\n",
              "    <tr>\n",
              "      <th>3</th>\n",
              "      <td>752172</td>\n",
              "      <td>2020-05-29</td>\n",
              "      <td>1</td>\n",
              "      <td>Control</td>\n",
              "      <td>1</td>\n",
              "      <td>1</td>\n",
              "      <td>surge</td>\n",
              "      <td>Android</td>\n",
              "      <td>0</td>\n",
              "      <td>1</td>\n",
              "      <td>Control</td>\n",
              "    </tr>\n",
              "    <tr>\n",
              "      <th>4</th>\n",
              "      <td>752172</td>\n",
              "      <td>2020-05-28</td>\n",
              "      <td>1</td>\n",
              "      <td>Control</td>\n",
              "      <td>1</td>\n",
              "      <td>1</td>\n",
              "      <td>no surge</td>\n",
              "      <td>iOS</td>\n",
              "      <td>0</td>\n",
              "      <td>0</td>\n",
              "      <td>Control</td>\n",
              "    </tr>\n",
              "  </tbody>\n",
              "</table>\n",
              "</div>\n",
              "      <button class=\"colab-df-convert\" onclick=\"convertToInteractive('df-6990eaa8-efc4-4c96-b010-5bcbc6889acf')\"\n",
              "              title=\"Convert this dataframe to an interactive table.\"\n",
              "              style=\"display:none;\">\n",
              "        \n",
              "  <svg xmlns=\"http://www.w3.org/2000/svg\" height=\"24px\"viewBox=\"0 0 24 24\"\n",
              "       width=\"24px\">\n",
              "    <path d=\"M0 0h24v24H0V0z\" fill=\"none\"/>\n",
              "    <path d=\"M18.56 5.44l.94 2.06.94-2.06 2.06-.94-2.06-.94-.94-2.06-.94 2.06-2.06.94zm-11 1L8.5 8.5l.94-2.06 2.06-.94-2.06-.94L8.5 2.5l-.94 2.06-2.06.94zm10 10l.94 2.06.94-2.06 2.06-.94-2.06-.94-.94-2.06-.94 2.06-2.06.94z\"/><path d=\"M17.41 7.96l-1.37-1.37c-.4-.4-.92-.59-1.43-.59-.52 0-1.04.2-1.43.59L10.3 9.45l-7.72 7.72c-.78.78-.78 2.05 0 2.83L4 21.41c.39.39.9.59 1.41.59.51 0 1.02-.2 1.41-.59l7.78-7.78 2.81-2.81c.8-.78.8-2.07 0-2.86zM5.41 20L4 18.59l7.72-7.72 1.47 1.35L5.41 20z\"/>\n",
              "  </svg>\n",
              "      </button>\n",
              "      \n",
              "  <style>\n",
              "    .colab-df-container {\n",
              "      display:flex;\n",
              "      flex-wrap:wrap;\n",
              "      gap: 12px;\n",
              "    }\n",
              "\n",
              "    .colab-df-convert {\n",
              "      background-color: #E8F0FE;\n",
              "      border: none;\n",
              "      border-radius: 50%;\n",
              "      cursor: pointer;\n",
              "      display: none;\n",
              "      fill: #1967D2;\n",
              "      height: 32px;\n",
              "      padding: 0 0 0 0;\n",
              "      width: 32px;\n",
              "    }\n",
              "\n",
              "    .colab-df-convert:hover {\n",
              "      background-color: #E2EBFA;\n",
              "      box-shadow: 0px 1px 2px rgba(60, 64, 67, 0.3), 0px 1px 3px 1px rgba(60, 64, 67, 0.15);\n",
              "      fill: #174EA6;\n",
              "    }\n",
              "\n",
              "    [theme=dark] .colab-df-convert {\n",
              "      background-color: #3B4455;\n",
              "      fill: #D2E3FC;\n",
              "    }\n",
              "\n",
              "    [theme=dark] .colab-df-convert:hover {\n",
              "      background-color: #434B5C;\n",
              "      box-shadow: 0px 1px 3px 1px rgba(0, 0, 0, 0.15);\n",
              "      filter: drop-shadow(0px 1px 2px rgba(0, 0, 0, 0.3));\n",
              "      fill: #FFFFFF;\n",
              "    }\n",
              "  </style>\n",
              "\n",
              "      <script>\n",
              "        const buttonEl =\n",
              "          document.querySelector('#df-6990eaa8-efc4-4c96-b010-5bcbc6889acf button.colab-df-convert');\n",
              "        buttonEl.style.display =\n",
              "          google.colab.kernel.accessAllowed ? 'block' : 'none';\n",
              "\n",
              "        async function convertToInteractive(key) {\n",
              "          const element = document.querySelector('#df-6990eaa8-efc4-4c96-b010-5bcbc6889acf');\n",
              "          const dataTable =\n",
              "            await google.colab.kernel.invokeFunction('convertToInteractive',\n",
              "                                                     [key], {});\n",
              "          if (!dataTable) return;\n",
              "\n",
              "          const docLinkHtml = 'Like what you see? Visit the ' +\n",
              "            '<a target=\"_blank\" href=https://colab.research.google.com/notebooks/data_table.ipynb>data table notebook</a>'\n",
              "            + ' to learn more about interactive tables.';\n",
              "          element.innerHTML = '';\n",
              "          dataTable['output_type'] = 'display_data';\n",
              "          await google.colab.output.renderOutput(dataTable, element);\n",
              "          const docLink = document.createElement('div');\n",
              "          docLink.innerHTML = docLinkHtml;\n",
              "          element.appendChild(docLink);\n",
              "        }\n",
              "      </script>\n",
              "    </div>\n",
              "  </div>\n",
              "  "
            ]
          },
          "metadata": {},
          "execution_count": 19
        }
      ]
    },
    {
      "cell_type": "markdown",
      "source": [
        "**Фича**\n",
        "\n",
        "---\n",
        "\n",
        "Если юзер Android нажимает “отменить”, предлагать промокод в случае НЕ отмены\n",
        "Ожидаем: ниже отмены на Android устройствах"
      ],
      "metadata": {
        "id": "FJH9Kp1Sq563"
      }
    },
    {
      "cell_type": "code",
      "source": [
        "gett_df_android = gett_df[gett_df.os=='Android'] #сформируем ГС из пользователей с ОС Android\n",
        "gett_df_android.os.value_counts()"
      ],
      "metadata": {
        "id": "mGyVDBnirBqQ",
        "colab": {
          "base_uri": "https://localhost:8080/"
        },
        "outputId": "b464bb4b-7a77-4081-c9f1-4da75d7d54fa"
      },
      "execution_count": 20,
      "outputs": [
        {
          "output_type": "execute_result",
          "data": {
            "text/plain": [
              "Android    60825\n",
              "Name: os, dtype: int64"
            ]
          },
          "metadata": {},
          "execution_count": 20
        }
      ]
    },
    {
      "cell_type": "code",
      "source": [
        "gett_df_android.groups.value_counts()"
      ],
      "metadata": {
        "colab": {
          "base_uri": "https://localhost:8080/"
        },
        "id": "R4ttiybAv2zd",
        "outputId": "6b7def46-59b6-48a0-94b6-e4252046a2cc"
      },
      "execution_count": 21,
      "outputs": [
        {
          "output_type": "execute_result",
          "data": {
            "text/plain": [
              "Control    30453\n",
              "Test       30372\n",
              "Name: groups, dtype: int64"
            ]
          },
          "metadata": {},
          "execution_count": 21
        }
      ]
    },
    {
      "cell_type": "code",
      "source": [
        "gett_df_groupA = gett_df_android[gett_df_android.groups=='Control'] #отфильтруем groups==Control выборка А\n",
        "gett_df_groupB = gett_df_android[gett_df_android.groups=='Test'] #отфильтруем groups==Test выборка B\n",
        " # выбираем нужное количество строк, чтоб выборки А и В были одинаковыми \n",
        "gett_df_groupB = gett_df_groupB.iloc[0:30372]\n",
        "gett_df_groupA = gett_df_groupA.iloc[0:30372]\n",
        "print(gett_df_groupA.groups.value_counts())\n",
        "print(gett_df_groupB.groups.value_counts())"
      ],
      "metadata": {
        "id": "6xcuja_ev5Fo",
        "colab": {
          "base_uri": "https://localhost:8080/"
        },
        "outputId": "4c4fd530-bdbb-4fc2-c5cf-0f74234ef0b8"
      },
      "execution_count": 22,
      "outputs": [
        {
          "output_type": "stream",
          "name": "stdout",
          "text": [
            "Control    30372\n",
            "Name: groups, dtype: int64\n",
            "Test    30372\n",
            "Name: groups, dtype: int64\n"
          ]
        }
      ]
    },
    {
      "cell_type": "code",
      "source": [
        "#Разбиваем тестовую выборку на 7 равных частей\n",
        "gett_df_groupB1 = gett_df_groupB.iloc[0:4338]\n",
        "gett_df_groupB2 = gett_df_groupB.iloc[4339:8677]\n",
        "gett_df_groupB3 = gett_df_groupB.iloc[8678:13016]\n",
        "gett_df_groupB4 = gett_df_groupB.iloc[13017:17355]\n",
        "gett_df_groupB5 = gett_df_groupB.iloc[17356:21694]\n",
        "gett_df_groupB6 = gett_df_groupB.iloc[21695:26033]\n",
        "gett_df_groupB7 = gett_df_groupB.iloc[26034:30372]\n",
        "gett_df_groupA1 = gett_df_groupA.iloc[0:4338]\n",
        "gett_df_groupA2 = gett_df_groupA.iloc[4339:8677]\n",
        "gett_df_groupA3 = gett_df_groupA.iloc[8678:13016]\n",
        "gett_df_groupA4 = gett_df_groupA.iloc[13017:17355]\n",
        "gett_df_groupA5 = gett_df_groupA.iloc[17356:21694]\n",
        "gett_df_groupA6 = gett_df_groupA.iloc[21695:26033]\n",
        "gett_df_groupA7 = gett_df_groupA.iloc[26034:30372]"
      ],
      "metadata": {
        "id": "JjyXu5wux3N0"
      },
      "execution_count": 23,
      "outputs": []
    },
    {
      "cell_type": "code",
      "source": [
        "A1 = gett_df_groupA1[['order_made']]  # контрольная выборка А с одним столбцом order_made\n",
        "B1 = gett_df_groupB1[['order_made']] # выборка B с одним столбцом order_made\n",
        "t, p_value = stats.ttest_ind(A1, B1) #p_value и Критерий Стьюдента (t-test)\n",
        "print(t, p_value)\n",
        "print(stats.ttest_ind(A1, B1, equal_var = False))"
      ],
      "metadata": {
        "colab": {
          "base_uri": "https://localhost:8080/"
        },
        "id": "8zSyytBEyVab",
        "outputId": "265dfaeb-7d6b-42a3-9933-f7231f66fb1c"
      },
      "execution_count": 26,
      "outputs": [
        {
          "output_type": "stream",
          "name": "stdout",
          "text": [
            "[-0.27991351] [0.77955054]\n",
            "Ttest_indResult(statistic=array([-0.27991351]), pvalue=array([0.77955054]))\n"
          ]
        }
      ]
    },
    {
      "cell_type": "code",
      "source": [
        "A2 = gett_df_groupA2[['order_made']]\n",
        "B2 = gett_df_groupB2[['order_made']] \n",
        "t, p_value = stats.ttest_ind(A2, B2)\n",
        "print(t, p_value)\n",
        "print(stats.ttest_ind(A2, B2, equal_var = False))"
      ],
      "metadata": {
        "colab": {
          "base_uri": "https://localhost:8080/"
        },
        "id": "Z4Wtrsb4zBMG",
        "outputId": "a9d33b4d-d95c-4687-ef5e-23fa65ac9e13"
      },
      "execution_count": 27,
      "outputs": [
        {
          "output_type": "stream",
          "name": "stdout",
          "text": [
            "[-2.02156749] [0.0432517]\n",
            "Ttest_indResult(statistic=array([-2.02156749]), pvalue=array([0.04325171]))\n"
          ]
        }
      ]
    },
    {
      "cell_type": "code",
      "source": [
        "A3 = gett_df_groupA3[['order_made']]\n",
        "B3 = gett_df_groupB3[['order_made']] \n",
        "t, p_value = stats.ttest_ind(A3, B3)\n",
        "print(t, p_value)\n",
        "print(stats.ttest_ind(A3, B3, equal_var = False))"
      ],
      "metadata": {
        "colab": {
          "base_uri": "https://localhost:8080/"
        },
        "id": "7otqef7YzRqb",
        "outputId": "c5ffc592-f24d-4d60-e746-68e172991d81"
      },
      "execution_count": 28,
      "outputs": [
        {
          "output_type": "stream",
          "name": "stdout",
          "text": [
            "[-3.1865528] [0.0014449]\n",
            "Ttest_indResult(statistic=array([-3.1865528]), pvalue=array([0.0014449]))\n"
          ]
        }
      ]
    },
    {
      "cell_type": "code",
      "source": [
        "A4 = gett_df_groupA4[['order_made']]\n",
        "B4 = gett_df_groupB4[['order_made']] \n",
        "t, p_value = stats.ttest_ind(A4, B4)\n",
        "print(t, p_value)\n",
        "print(stats.ttest_ind(A4, B4, equal_var = False))"
      ],
      "metadata": {
        "colab": {
          "base_uri": "https://localhost:8080/"
        },
        "id": "XRBCJ2DtzWMW",
        "outputId": "94b96a35-edcc-49b2-c586-4046e751c04b"
      },
      "execution_count": 29,
      "outputs": [
        {
          "output_type": "stream",
          "name": "stdout",
          "text": [
            "[-1.89653436] [0.05792261]\n",
            "Ttest_indResult(statistic=array([-1.89653436]), pvalue=array([0.05792262]))\n"
          ]
        }
      ]
    },
    {
      "cell_type": "code",
      "source": [
        "A5 = gett_df_groupA5[['order_made']]\n",
        "B5 = gett_df_groupB5[['order_made']] \n",
        "t, p_value = stats.ttest_ind(A5, B5)\n",
        "print(t, p_value)\n",
        "print(stats.ttest_ind(A5, B5, equal_var = False))"
      ],
      "metadata": {
        "colab": {
          "base_uri": "https://localhost:8080/"
        },
        "id": "9A6vTd37zbRd",
        "outputId": "3f65e2d3-c9da-491e-e863-b509ca32e6b8"
      },
      "execution_count": 30,
      "outputs": [
        {
          "output_type": "stream",
          "name": "stdout",
          "text": [
            "[-1.69130389] [0.0908147]\n",
            "Ttest_indResult(statistic=array([-1.69130389]), pvalue=array([0.09081471]))\n"
          ]
        }
      ]
    },
    {
      "cell_type": "code",
      "source": [
        "A6 = gett_df_groupA6[['order_made']]\n",
        "B6 = gett_df_groupB6[['order_made']] \n",
        "t, p_value = stats.ttest_ind(A6, B6)\n",
        "print(t, p_value)\n",
        "print(stats.ttest_ind(A6, B6, equal_var = False))"
      ],
      "metadata": {
        "colab": {
          "base_uri": "https://localhost:8080/"
        },
        "id": "WwfHVJ1Ezg77",
        "outputId": "9cda8a55-f34f-4b2e-ec47-82c3cf280fe5"
      },
      "execution_count": 31,
      "outputs": [
        {
          "output_type": "stream",
          "name": "stdout",
          "text": [
            "[-1.06132542] [0.28857159]\n",
            "Ttest_indResult(statistic=array([-1.06132542]), pvalue=array([0.28857159]))\n"
          ]
        }
      ]
    },
    {
      "cell_type": "code",
      "source": [
        "A7 = gett_df_groupA7[['order_made']]\n",
        "B7 = gett_df_groupB7[['order_made']] \n",
        "t, p_value = stats.ttest_ind(A7, B7)\n",
        "print(t, p_value)\n",
        "print(stats.ttest_ind(A7, B7, equal_var = False))"
      ],
      "metadata": {
        "colab": {
          "base_uri": "https://localhost:8080/"
        },
        "id": "E_IvJOVDzmDs",
        "outputId": "7951a7b7-c9d3-4699-b109-9e4eacc91ad4"
      },
      "execution_count": 32,
      "outputs": [
        {
          "output_type": "stream",
          "name": "stdout",
          "text": [
            "[-2.73411863] [0.00626744]\n",
            "Ttest_indResult(statistic=array([-2.73411863]), pvalue=array([0.00626745]))\n"
          ]
        }
      ]
    },
    {
      "cell_type": "code",
      "source": [
        "x = [0.77955054,0.04325171,0.0014449,0.05792262,0.09081471,0.28857159,0.00626745]\n",
        "plt.figure(figsize=(12, 7))\n",
        "plt.plot(x, 'o-b',label=\"p-value\", lw=5,alpha=0.7, mec='b', mew=2,ms=10)\n",
        "plt.axhline(y=0.05, color='r', linestyle='-.',label=\"альфа-5%\")\n",
        "plt.legend()\n",
        "plt.grid(True)\n",
        "plt.title(\"Периодический p-value\")"
      ],
      "metadata": {
        "colab": {
          "base_uri": "https://localhost:8080/",
          "height": 462
        },
        "id": "isoo9qV0z1zh",
        "outputId": "c9707afc-d40a-46f7-d824-ac6a0b3ac23c"
      },
      "execution_count": 34,
      "outputs": [
        {
          "output_type": "execute_result",
          "data": {
            "text/plain": [
              "Text(0.5, 1.0, 'Периодический p-value')"
            ]
          },
          "metadata": {},
          "execution_count": 34
        },
        {
          "output_type": "display_data",
          "data": {
            "text/plain": [
              "<Figure size 864x504 with 1 Axes>"
            ],
            "image/png": "[encoded data removed]"
          },
          "metadata": {
            "needs_background": "light"
          }
        }
      ]
    },
    {
      "cell_type": "markdown",
      "source": [
        "Периодический p-value не дает однозначного ответа стоит ли отвергать H0 и принимать H1.\n",
        "\n",
        "---\n",
        "\n",
        "\n",
        "Со второго временного промежутка альтенативная гипотеза(H1) имеет стат.значимое подтверждение:предлагаемый владельцам Android промокод снижает отмены поездок. \n",
        "\n",
        "---\n",
        "\n",
        "Имеется промежуток (c 3 по 5),когда H1 перестает иметь стат.значимое подтверждение, что требует отдельного изучения.\n",
        "\n",
        "\n",
        "\n",
        "\n"
      ],
      "metadata": {
        "id": "s9MLPCSFzzek"
      }
    },
    {
      "cell_type": "markdown",
      "source": [
        "Фича №2\n",
        "\n",
        "---\n",
        "При уточнении, уверен ли юзер в отмене заказа не из центра, добавить эмодзи котика, просящего не отменять\n",
        "Ожидаем: ниже отмены по заказам НЕ из центра\n"
      ],
      "metadata": {
        "id": "lEJS2qfR1d3I"
      }
    },
    {
      "cell_type": "code",
      "source": [
        "gett_df_out_center_order = gett_df[gett_df.city_center_order==0] #сформируем ГС из пользователей с ОС Android\n",
        "gett_df_out_center_order.city_center_order.value_counts()"
      ],
      "metadata": {
        "colab": {
          "base_uri": "https://localhost:8080/"
        },
        "id": "KnJQklda1lgp",
        "outputId": "7f97e972-186b-424d-a07e-7f090b1068d5"
      },
      "execution_count": 36,
      "outputs": [
        {
          "output_type": "execute_result",
          "data": {
            "text/plain": [
              "0    70842\n",
              "Name: city_center_order, dtype: int64"
            ]
          },
          "metadata": {},
          "execution_count": 36
        }
      ]
    },
    {
      "cell_type": "code",
      "source": [
        "gett_df_out_center_order.groups.value_counts()"
      ],
      "metadata": {
        "colab": {
          "base_uri": "https://localhost:8080/"
        },
        "id": "53Ix56in2KZe",
        "outputId": "f2967dfc-d819-4011-b1a7-3235d117e798"
      },
      "execution_count": 37,
      "outputs": [
        {
          "output_type": "execute_result",
          "data": {
            "text/plain": [
              "Test       35442\n",
              "Control    35400\n",
              "Name: groups, dtype: int64"
            ]
          },
          "metadata": {},
          "execution_count": 37
        }
      ]
    },
    {
      "cell_type": "code",
      "source": [
        "gett_df2_groupA = gett_df_out_center_order[gett_df_out_center_order.groups=='Control'] #отфильтруем groups==Control выборка А\n",
        "gett_df2_groupB = gett_df_out_center_order[gett_df_out_center_order.groups=='Test'] #отфильтруем groups==Test выборка B\n",
        " # выбираем нужное количество строк, чтоб выборки А и В были одинаковыми \n",
        "gett_df2_groupB = gett_df2_groupB.iloc[0:35400]\n",
        "gett_df2_groupA = gett_df2_groupA.iloc[0:35400]\n",
        "print(gett_df2_groupA.groups.value_counts())\n",
        "print(gett_df2_groupB.groups.value_counts())"
      ],
      "metadata": {
        "colab": {
          "base_uri": "https://localhost:8080/"
        },
        "id": "kak0fI3I2QWp",
        "outputId": "656a791f-8ae2-4583-b3ef-1ed4f4565a88"
      },
      "execution_count": 38,
      "outputs": [
        {
          "output_type": "stream",
          "name": "stdout",
          "text": [
            "Control    35400\n",
            "Name: groups, dtype: int64\n",
            "Test    35400\n",
            "Name: groups, dtype: int64\n"
          ]
        }
      ]
    },
    {
      "cell_type": "code",
      "source": [
        "#Разбиваем тестовую выборку на 7 равных частей\n",
        "gett_df2_groupB1 = gett_df2_groupB.iloc[0:5057]\n",
        "gett_df2_groupB2 = gett_df2_groupB.iloc[5057:10114]\n",
        "gett_df2_groupB3 = gett_df2_groupB.iloc[10114:15171]\n",
        "gett_df2_groupB4 = gett_df2_groupB.iloc[15171:20228]\n",
        "gett_df2_groupB5 = gett_df2_groupB.iloc[20228:25285]\n",
        "gett_df2_groupB6 = gett_df2_groupB.iloc[25285:30342]\n",
        "gett_df2_groupB7 = gett_df2_groupB.iloc[30342:35400]\n",
        "gett_df2_groupA1 = gett_df2_groupA.iloc[0:5057]\n",
        "gett_df2_groupA2 = gett_df2_groupA.iloc[5057:10114]\n",
        "gett_df2_groupA3 = gett_df2_groupA.iloc[10114:15171]\n",
        "gett_df2_groupA4 = gett_df2_groupA.iloc[15171:20228]\n",
        "gett_df2_groupA5 = gett_df2_groupA.iloc[20228:25285]\n",
        "gett_df2_groupA6 = gett_df2_groupA.iloc[25285:30342]\n",
        "gett_df2_groupA7 = gett_df2_groupA.iloc[30342:35400]"
      ],
      "metadata": {
        "id": "sW2hHVp72rYq"
      },
      "execution_count": 39,
      "outputs": []
    },
    {
      "cell_type": "code",
      "source": [
        "A1_1 = gett_df2_groupA1[['order_made']]  # контрольная выборка А с одним столбцом order_made\n",
        "B1_1 = gett_df2_groupB1[['order_made']] # выборка B с одним столбцом order_made\n",
        "t, p_value = stats.ttest_ind(A1_1, B1_1) #p_value и Критерий Стьюдента (t-test)\n",
        "print(t, p_value)\n",
        "print(stats.ttest_ind(A1_1, B1_1, equal_var = False))"
      ],
      "metadata": {
        "colab": {
          "base_uri": "https://localhost:8080/"
        },
        "id": "IMLabHGz32_E",
        "outputId": "de63fcf0-a21d-469f-e060-0e51e87c85ef"
      },
      "execution_count": 43,
      "outputs": [
        {
          "output_type": "stream",
          "name": "stdout",
          "text": [
            "[-1.5023675] [0.13303345]\n",
            "Ttest_indResult(statistic=array([-1.5023675]), pvalue=array([0.13303345]))\n"
          ]
        }
      ]
    },
    {
      "cell_type": "code",
      "source": [
        "A1_2 = gett_df2_groupA2[['order_made']] \n",
        "B1_2 = gett_df2_groupB2[['order_made']] \n",
        "t, p_value = stats.ttest_ind(A1_2, B1_2)\n",
        "print(t, p_value)\n",
        "print(stats.ttest_ind(A1_2, B1_2, equal_var = False))"
      ],
      "metadata": {
        "colab": {
          "base_uri": "https://localhost:8080/"
        },
        "id": "b2WPsLSA4Y0G",
        "outputId": "a8538db4-e30d-4f19-d57b-52db6a478f22"
      },
      "execution_count": 44,
      "outputs": [
        {
          "output_type": "stream",
          "name": "stdout",
          "text": [
            "[-2.32089144] [0.02031249]\n",
            "Ttest_indResult(statistic=array([-2.32089144]), pvalue=array([0.02031249]))\n"
          ]
        }
      ]
    },
    {
      "cell_type": "code",
      "source": [
        "A1_3 = gett_df2_groupA3[['order_made']] \n",
        "B1_3 = gett_df2_groupB3[['order_made']] \n",
        "t, p_value = stats.ttest_ind(A1_3, B1_3)\n",
        "print(t, p_value)\n",
        "print(stats.ttest_ind(A1_3, B1_3, equal_var = False))"
      ],
      "metadata": {
        "colab": {
          "base_uri": "https://localhost:8080/"
        },
        "id": "9D4YK5R74hUH",
        "outputId": "f2960672-1121-4318-f1cd-f548fa20481c"
      },
      "execution_count": 50,
      "outputs": [
        {
          "output_type": "stream",
          "name": "stdout",
          "text": [
            "[-1.18304897] [0.23681755]\n",
            "Ttest_indResult(statistic=array([-1.18304897]), pvalue=array([0.23681755]))\n"
          ]
        }
      ]
    },
    {
      "cell_type": "code",
      "source": [
        "A1_4 = gett_df2_groupA4[['order_made']] \n",
        "B1_4 = gett_df2_groupB4[['order_made']] \n",
        "t, p_value = stats.ttest_ind(A1_4, B1_4)\n",
        "print(t, p_value)\n",
        "print(stats.ttest_ind(A1_4, B1_4, equal_var = False))"
      ],
      "metadata": {
        "colab": {
          "base_uri": "https://localhost:8080/"
        },
        "id": "aKWVutAn4i8n",
        "outputId": "e30b6136-7d00-408b-94cd-c1631ad2788a"
      },
      "execution_count": 46,
      "outputs": [
        {
          "output_type": "stream",
          "name": "stdout",
          "text": [
            "[-1.7449088] [0.08103112]\n",
            "Ttest_indResult(statistic=array([-1.7449088]), pvalue=array([0.08103112]))\n"
          ]
        }
      ]
    },
    {
      "cell_type": "code",
      "source": [
        "A1_5 = gett_df2_groupA5[['order_made']] \n",
        "B1_5 = gett_df2_groupB5[['order_made']] \n",
        "t, p_value = stats.ttest_ind(A1_5, B1_5)\n",
        "print(t, p_value)\n",
        "print(stats.ttest_ind(A1_5, B1_5, equal_var = False))"
      ],
      "metadata": {
        "colab": {
          "base_uri": "https://localhost:8080/"
        },
        "id": "gOjHCtRc4uFl",
        "outputId": "be8fbf75-08b0-4649-f7d8-ae84da388b43"
      },
      "execution_count": 47,
      "outputs": [
        {
          "output_type": "stream",
          "name": "stdout",
          "text": [
            "[-1.19932348] [0.23043029]\n",
            "Ttest_indResult(statistic=array([-1.19932348]), pvalue=array([0.23043029]))\n"
          ]
        }
      ]
    },
    {
      "cell_type": "code",
      "source": [
        "A1_6 = gett_df2_groupA6[['order_made']] \n",
        "B1_6 = gett_df2_groupB6[['order_made']] \n",
        "t, p_value = stats.ttest_ind(A1_6, B1_6)\n",
        "print(t, p_value)\n",
        "print(stats.ttest_ind(A1_6, B1_6, equal_var = False))"
      ],
      "metadata": {
        "colab": {
          "base_uri": "https://localhost:8080/"
        },
        "id": "87Vc2PVp4ye5",
        "outputId": "c8dd65be-c248-4c64-ce49-a3e476337794"
      },
      "execution_count": 48,
      "outputs": [
        {
          "output_type": "stream",
          "name": "stdout",
          "text": [
            "[-1.91867105] [0.0550541]\n",
            "Ttest_indResult(statistic=array([-1.91867105]), pvalue=array([0.0550541]))\n"
          ]
        }
      ]
    },
    {
      "cell_type": "code",
      "source": [
        "A1_7 = gett_df2_groupA7[['order_made']] \n",
        "B1_7 = gett_df2_groupB7[['order_made']] \n",
        "t, p_value = stats.ttest_ind(A1_7, B1_7)\n",
        "print(t, p_value)\n",
        "print(stats.ttest_ind(A1_7, B1_7, equal_var = False))"
      ],
      "metadata": {
        "colab": {
          "base_uri": "https://localhost:8080/"
        },
        "id": "iWi2JS_C450p",
        "outputId": "bca06a68-5917-46be-a4c8-cfecfd5d09e8"
      },
      "execution_count": 49,
      "outputs": [
        {
          "output_type": "stream",
          "name": "stdout",
          "text": [
            "[-2.92564592] [0.00344506]\n",
            "Ttest_indResult(statistic=array([-2.92564592]), pvalue=array([0.00344506]))\n"
          ]
        }
      ]
    },
    {
      "cell_type": "code",
      "source": [
        "x = [0.13303345,0.02031249,0.23681755,0.08103112,0.23043029,0.0550541,0.00344506]\n",
        "plt.figure(figsize=(12, 7))\n",
        "plt.plot(x, 'o-b',label=\"p-value\", lw=5,alpha=0.7, mec='b', mew=2,ms=10)\n",
        "plt.axhline(y=0.05, color='r', linestyle='-.',label=\"альфа-5%\")\n",
        "plt.legend()\n",
        "plt.grid(True)\n",
        "plt.title(\"Периодический p-value\")"
      ],
      "metadata": {
        "colab": {
          "base_uri": "https://localhost:8080/",
          "height": 462
        },
        "id": "pW9MqwXX5CC5",
        "outputId": "afe70414-d323-41ce-c740-27eb40d0cef9"
      },
      "execution_count": 51,
      "outputs": [
        {
          "output_type": "execute_result",
          "data": {
            "text/plain": [
              "Text(0.5, 1.0, 'Периодический p-value')"
            ]
          },
          "metadata": {},
          "execution_count": 51
        },
        {
          "output_type": "display_data",
          "data": {
            "text/plain": [
              "<Figure size 864x504 with 1 Axes>"
            ],
            "image/png": "[encoded data removed]"
          },
          "metadata": {
            "needs_background": "light"
          }
        }
      ]
    },
    {
      "cell_type": "markdown",
      "source": [
        "Периодический p-value не дает однозначного ответа стоит ли отвергать H0 и принимать H1.\n",
        "\n",
        "---\n",
        "\n",
        "Со первого временного промежутка альтенативная гипотеза(H1) имеет стат.значимое подтверждение:добавление эмодзи котика, просящего не отменять поездку снижает отмены.\n"
      ],
      "metadata": {
        "id": "5HoC9lPq5jK1"
      }
    }
  ]
}