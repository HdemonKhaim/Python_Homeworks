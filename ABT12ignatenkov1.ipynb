{
  "nbformat": 4,
  "nbformat_minor": 0,
  "metadata": {
    "colab": {
      "name": "ABT12ignatenkov1.ipynb",
      "provenance": [],
      "collapsed_sections": [],
      "authorship_tag": "ABX9TyPxHvUAwWK6hg8p6KhxQdfL",
      "include_colab_link": true
    },
    "kernelspec": {
      "name": "python3",
      "display_name": "Python 3"
    },
    "language_info": {
      "name": "python"
    }
  },
  "cells": [
    {
      "cell_type": "markdown",
      "metadata": {
        "id": "view-in-github",
        "colab_type": "text"
      },
      "source": [
        "<a href=\"https://colab.research.google.com/github/HdemonKhaim/Python_Homeworks/blob/main/ABT12ignatenkov1.ipynb\" target=\"_parent\"><img src=\"https://colab.research.google.com/assets/colab-badge.svg\" alt=\"Open In Colab\"/></a>"
      ]
    },
    {
      "cell_type": "code",
      "source": [
        "import pandas as pd\n",
        "import numpy as np\n",
        "import matplotlib.pyplot as plt\n",
        "from sklearn import datasets"
      ],
      "metadata": {
        "id": "osKtSoE8gsPU"
      },
      "execution_count": 46,
      "outputs": []
    },
    {
      "cell_type": "code",
      "source": [
        "gett_df = pd.read_csv('new_dataframe.csv')\n",
        "gett_df.head()"
      ],
      "metadata": {
        "colab": {
          "base_uri": "https://localhost:8080/",
          "height": 206
        },
        "id": "_AwZBj7rg8qF",
        "outputId": "d0b83a9b-aff5-4fad-f7fb-9a48e4caac7d"
      },
      "execution_count": 4,
      "outputs": [
        {
          "output_type": "execute_result",
          "data": {
            "text/plain": [
              "   Unnamed: 0  user_id  hour       os     surge  app_opened  price_seen  \\\n",
              "0           0   867689    12      iOS  no surge           1           1   \n",
              "1           1   752172     5  Android  no surge           1           1   \n",
              "2           2   486559    15  Android  no surge           1           1   \n",
              "3           3   304024     0  Android  no surge           1           1   \n",
              "4           4   139420     0  Android  no surge           1           1   \n",
              "\n",
              "   order_made  ride_completed  user_cancelled  city_center_order   distance  \\\n",
              "0           1               1               0                  0   7.982135   \n",
              "1           1               1               0                  1   2.908468   \n",
              "2           1               1               0                  0   7.224614   \n",
              "3           1               1               0                  1   1.874349   \n",
              "4           1               1               0                  0  10.704778   \n",
              "\n",
              "   age   rfm  \n",
              "0   20   low  \n",
              "1   27  high  \n",
              "2   21  high  \n",
              "3   52   low  \n",
              "4   19   low  "
            ],
            "text/html": [
              "\n",
              "  <div id=\"df-9f5c40ac-a0cc-4cf5-8966-79152a61b38e\">\n",
              "    <div class=\"colab-df-container\">\n",
              "      <div>\n",
              "<style scoped>\n",
              "    .dataframe tbody tr th:only-of-type {\n",
              "        vertical-align: middle;\n",
              "    }\n",
              "\n",
              "    .dataframe tbody tr th {\n",
              "        vertical-align: top;\n",
              "    }\n",
              "\n",
              "    .dataframe thead th {\n",
              "        text-align: right;\n",
              "    }\n",
              "</style>\n",
              "<table border=\"1\" class=\"dataframe\">\n",
              "  <thead>\n",
              "    <tr style=\"text-align: right;\">\n",
              "      <th></th>\n",
              "      <th>Unnamed: 0</th>\n",
              "      <th>user_id</th>\n",
              "      <th>hour</th>\n",
              "      <th>os</th>\n",
              "      <th>surge</th>\n",
              "      <th>app_opened</th>\n",
              "      <th>price_seen</th>\n",
              "      <th>order_made</th>\n",
              "      <th>ride_completed</th>\n",
              "      <th>user_cancelled</th>\n",
              "      <th>city_center_order</th>\n",
              "      <th>distance</th>\n",
              "      <th>age</th>\n",
              "      <th>rfm</th>\n",
              "    </tr>\n",
              "  </thead>\n",
              "  <tbody>\n",
              "    <tr>\n",
              "      <th>0</th>\n",
              "      <td>0</td>\n",
              "      <td>867689</td>\n",
              "      <td>12</td>\n",
              "      <td>iOS</td>\n",
              "      <td>no surge</td>\n",
              "      <td>1</td>\n",
              "      <td>1</td>\n",
              "      <td>1</td>\n",
              "      <td>1</td>\n",
              "      <td>0</td>\n",
              "      <td>0</td>\n",
              "      <td>7.982135</td>\n",
              "      <td>20</td>\n",
              "      <td>low</td>\n",
              "    </tr>\n",
              "    <tr>\n",
              "      <th>1</th>\n",
              "      <td>1</td>\n",
              "      <td>752172</td>\n",
              "      <td>5</td>\n",
              "      <td>Android</td>\n",
              "      <td>no surge</td>\n",
              "      <td>1</td>\n",
              "      <td>1</td>\n",
              "      <td>1</td>\n",
              "      <td>1</td>\n",
              "      <td>0</td>\n",
              "      <td>1</td>\n",
              "      <td>2.908468</td>\n",
              "      <td>27</td>\n",
              "      <td>high</td>\n",
              "    </tr>\n",
              "    <tr>\n",
              "      <th>2</th>\n",
              "      <td>2</td>\n",
              "      <td>486559</td>\n",
              "      <td>15</td>\n",
              "      <td>Android</td>\n",
              "      <td>no surge</td>\n",
              "      <td>1</td>\n",
              "      <td>1</td>\n",
              "      <td>1</td>\n",
              "      <td>1</td>\n",
              "      <td>0</td>\n",
              "      <td>0</td>\n",
              "      <td>7.224614</td>\n",
              "      <td>21</td>\n",
              "      <td>high</td>\n",
              "    </tr>\n",
              "    <tr>\n",
              "      <th>3</th>\n",
              "      <td>3</td>\n",
              "      <td>304024</td>\n",
              "      <td>0</td>\n",
              "      <td>Android</td>\n",
              "      <td>no surge</td>\n",
              "      <td>1</td>\n",
              "      <td>1</td>\n",
              "      <td>1</td>\n",
              "      <td>1</td>\n",
              "      <td>0</td>\n",
              "      <td>1</td>\n",
              "      <td>1.874349</td>\n",
              "      <td>52</td>\n",
              "      <td>low</td>\n",
              "    </tr>\n",
              "    <tr>\n",
              "      <th>4</th>\n",
              "      <td>4</td>\n",
              "      <td>139420</td>\n",
              "      <td>0</td>\n",
              "      <td>Android</td>\n",
              "      <td>no surge</td>\n",
              "      <td>1</td>\n",
              "      <td>1</td>\n",
              "      <td>1</td>\n",
              "      <td>1</td>\n",
              "      <td>0</td>\n",
              "      <td>0</td>\n",
              "      <td>10.704778</td>\n",
              "      <td>19</td>\n",
              "      <td>low</td>\n",
              "    </tr>\n",
              "  </tbody>\n",
              "</table>\n",
              "</div>\n",
              "      <button class=\"colab-df-convert\" onclick=\"convertToInteractive('df-9f5c40ac-a0cc-4cf5-8966-79152a61b38e')\"\n",
              "              title=\"Convert this dataframe to an interactive table.\"\n",
              "              style=\"display:none;\">\n",
              "        \n",
              "  <svg xmlns=\"http://www.w3.org/2000/svg\" height=\"24px\"viewBox=\"0 0 24 24\"\n",
              "       width=\"24px\">\n",
              "    <path d=\"M0 0h24v24H0V0z\" fill=\"none\"/>\n",
              "    <path d=\"M18.56 5.44l.94 2.06.94-2.06 2.06-.94-2.06-.94-.94-2.06-.94 2.06-2.06.94zm-11 1L8.5 8.5l.94-2.06 2.06-.94-2.06-.94L8.5 2.5l-.94 2.06-2.06.94zm10 10l.94 2.06.94-2.06 2.06-.94-2.06-.94-.94-2.06-.94 2.06-2.06.94z\"/><path d=\"M17.41 7.96l-1.37-1.37c-.4-.4-.92-.59-1.43-.59-.52 0-1.04.2-1.43.59L10.3 9.45l-7.72 7.72c-.78.78-.78 2.05 0 2.83L4 21.41c.39.39.9.59 1.41.59.51 0 1.02-.2 1.41-.59l7.78-7.78 2.81-2.81c.8-.78.8-2.07 0-2.86zM5.41 20L4 18.59l7.72-7.72 1.47 1.35L5.41 20z\"/>\n",
              "  </svg>\n",
              "      </button>\n",
              "      \n",
              "  <style>\n",
              "    .colab-df-container {\n",
              "      display:flex;\n",
              "      flex-wrap:wrap;\n",
              "      gap: 12px;\n",
              "    }\n",
              "\n",
              "    .colab-df-convert {\n",
              "      background-color: #E8F0FE;\n",
              "      border: none;\n",
              "      border-radius: 50%;\n",
              "      cursor: pointer;\n",
              "      display: none;\n",
              "      fill: #1967D2;\n",
              "      height: 32px;\n",
              "      padding: 0 0 0 0;\n",
              "      width: 32px;\n",
              "    }\n",
              "\n",
              "    .colab-df-convert:hover {\n",
              "      background-color: #E2EBFA;\n",
              "      box-shadow: 0px 1px 2px rgba(60, 64, 67, 0.3), 0px 1px 3px 1px rgba(60, 64, 67, 0.15);\n",
              "      fill: #174EA6;\n",
              "    }\n",
              "\n",
              "    [theme=dark] .colab-df-convert {\n",
              "      background-color: #3B4455;\n",
              "      fill: #D2E3FC;\n",
              "    }\n",
              "\n",
              "    [theme=dark] .colab-df-convert:hover {\n",
              "      background-color: #434B5C;\n",
              "      box-shadow: 0px 1px 3px 1px rgba(0, 0, 0, 0.15);\n",
              "      filter: drop-shadow(0px 1px 2px rgba(0, 0, 0, 0.3));\n",
              "      fill: #FFFFFF;\n",
              "    }\n",
              "  </style>\n",
              "\n",
              "      <script>\n",
              "        const buttonEl =\n",
              "          document.querySelector('#df-9f5c40ac-a0cc-4cf5-8966-79152a61b38e button.colab-df-convert');\n",
              "        buttonEl.style.display =\n",
              "          google.colab.kernel.accessAllowed ? 'block' : 'none';\n",
              "\n",
              "        async function convertToInteractive(key) {\n",
              "          const element = document.querySelector('#df-9f5c40ac-a0cc-4cf5-8966-79152a61b38e');\n",
              "          const dataTable =\n",
              "            await google.colab.kernel.invokeFunction('convertToInteractive',\n",
              "                                                     [key], {});\n",
              "          if (!dataTable) return;\n",
              "\n",
              "          const docLinkHtml = 'Like what you see? Visit the ' +\n",
              "            '<a target=\"_blank\" href=https://colab.research.google.com/notebooks/data_table.ipynb>data table notebook</a>'\n",
              "            + ' to learn more about interactive tables.';\n",
              "          element.innerHTML = '';\n",
              "          dataTable['output_type'] = 'display_data';\n",
              "          await google.colab.output.renderOutput(dataTable, element);\n",
              "          const docLink = document.createElement('div');\n",
              "          docLink.innerHTML = docLinkHtml;\n",
              "          element.appendChild(docLink);\n",
              "        }\n",
              "      </script>\n",
              "    </div>\n",
              "  </div>\n",
              "  "
            ]
          },
          "metadata": {},
          "execution_count": 4
        }
      ]
    },
    {
      "cell_type": "code",
      "source": [
        "gett_df = gett_df.dropna() \n",
        "gett_df.head()"
      ],
      "metadata": {
        "colab": {
          "base_uri": "https://localhost:8080/",
          "height": 206
        },
        "id": "_u2pMAWGuWZk",
        "outputId": "b951ec01-077c-4dd5-c982-e147653a70cc"
      },
      "execution_count": 5,
      "outputs": [
        {
          "output_type": "execute_result",
          "data": {
            "text/plain": [
              "   Unnamed: 0  user_id  hour       os     surge  app_opened  price_seen  \\\n",
              "0           0   867689    12      iOS  no surge           1           1   \n",
              "1           1   752172     5  Android  no surge           1           1   \n",
              "2           2   486559    15  Android  no surge           1           1   \n",
              "3           3   304024     0  Android  no surge           1           1   \n",
              "4           4   139420     0  Android  no surge           1           1   \n",
              "\n",
              "   order_made  ride_completed  user_cancelled  city_center_order   distance  \\\n",
              "0           1               1               0                  0   7.982135   \n",
              "1           1               1               0                  1   2.908468   \n",
              "2           1               1               0                  0   7.224614   \n",
              "3           1               1               0                  1   1.874349   \n",
              "4           1               1               0                  0  10.704778   \n",
              "\n",
              "   age   rfm  \n",
              "0   20   low  \n",
              "1   27  high  \n",
              "2   21  high  \n",
              "3   52   low  \n",
              "4   19   low  "
            ],
            "text/html": [
              "\n",
              "  <div id=\"df-97ffbdda-f5cf-45ed-9052-4cf3c6f7475f\">\n",
              "    <div class=\"colab-df-container\">\n",
              "      <div>\n",
              "<style scoped>\n",
              "    .dataframe tbody tr th:only-of-type {\n",
              "        vertical-align: middle;\n",
              "    }\n",
              "\n",
              "    .dataframe tbody tr th {\n",
              "        vertical-align: top;\n",
              "    }\n",
              "\n",
              "    .dataframe thead th {\n",
              "        text-align: right;\n",
              "    }\n",
              "</style>\n",
              "<table border=\"1\" class=\"dataframe\">\n",
              "  <thead>\n",
              "    <tr style=\"text-align: right;\">\n",
              "      <th></th>\n",
              "      <th>Unnamed: 0</th>\n",
              "      <th>user_id</th>\n",
              "      <th>hour</th>\n",
              "      <th>os</th>\n",
              "      <th>surge</th>\n",
              "      <th>app_opened</th>\n",
              "      <th>price_seen</th>\n",
              "      <th>order_made</th>\n",
              "      <th>ride_completed</th>\n",
              "      <th>user_cancelled</th>\n",
              "      <th>city_center_order</th>\n",
              "      <th>distance</th>\n",
              "      <th>age</th>\n",
              "      <th>rfm</th>\n",
              "    </tr>\n",
              "  </thead>\n",
              "  <tbody>\n",
              "    <tr>\n",
              "      <th>0</th>\n",
              "      <td>0</td>\n",
              "      <td>867689</td>\n",
              "      <td>12</td>\n",
              "      <td>iOS</td>\n",
              "      <td>no surge</td>\n",
              "      <td>1</td>\n",
              "      <td>1</td>\n",
              "      <td>1</td>\n",
              "      <td>1</td>\n",
              "      <td>0</td>\n",
              "      <td>0</td>\n",
              "      <td>7.982135</td>\n",
              "      <td>20</td>\n",
              "      <td>low</td>\n",
              "    </tr>\n",
              "    <tr>\n",
              "      <th>1</th>\n",
              "      <td>1</td>\n",
              "      <td>752172</td>\n",
              "      <td>5</td>\n",
              "      <td>Android</td>\n",
              "      <td>no surge</td>\n",
              "      <td>1</td>\n",
              "      <td>1</td>\n",
              "      <td>1</td>\n",
              "      <td>1</td>\n",
              "      <td>0</td>\n",
              "      <td>1</td>\n",
              "      <td>2.908468</td>\n",
              "      <td>27</td>\n",
              "      <td>high</td>\n",
              "    </tr>\n",
              "    <tr>\n",
              "      <th>2</th>\n",
              "      <td>2</td>\n",
              "      <td>486559</td>\n",
              "      <td>15</td>\n",
              "      <td>Android</td>\n",
              "      <td>no surge</td>\n",
              "      <td>1</td>\n",
              "      <td>1</td>\n",
              "      <td>1</td>\n",
              "      <td>1</td>\n",
              "      <td>0</td>\n",
              "      <td>0</td>\n",
              "      <td>7.224614</td>\n",
              "      <td>21</td>\n",
              "      <td>high</td>\n",
              "    </tr>\n",
              "    <tr>\n",
              "      <th>3</th>\n",
              "      <td>3</td>\n",
              "      <td>304024</td>\n",
              "      <td>0</td>\n",
              "      <td>Android</td>\n",
              "      <td>no surge</td>\n",
              "      <td>1</td>\n",
              "      <td>1</td>\n",
              "      <td>1</td>\n",
              "      <td>1</td>\n",
              "      <td>0</td>\n",
              "      <td>1</td>\n",
              "      <td>1.874349</td>\n",
              "      <td>52</td>\n",
              "      <td>low</td>\n",
              "    </tr>\n",
              "    <tr>\n",
              "      <th>4</th>\n",
              "      <td>4</td>\n",
              "      <td>139420</td>\n",
              "      <td>0</td>\n",
              "      <td>Android</td>\n",
              "      <td>no surge</td>\n",
              "      <td>1</td>\n",
              "      <td>1</td>\n",
              "      <td>1</td>\n",
              "      <td>1</td>\n",
              "      <td>0</td>\n",
              "      <td>0</td>\n",
              "      <td>10.704778</td>\n",
              "      <td>19</td>\n",
              "      <td>low</td>\n",
              "    </tr>\n",
              "  </tbody>\n",
              "</table>\n",
              "</div>\n",
              "      <button class=\"colab-df-convert\" onclick=\"convertToInteractive('df-97ffbdda-f5cf-45ed-9052-4cf3c6f7475f')\"\n",
              "              title=\"Convert this dataframe to an interactive table.\"\n",
              "              style=\"display:none;\">\n",
              "        \n",
              "  <svg xmlns=\"http://www.w3.org/2000/svg\" height=\"24px\"viewBox=\"0 0 24 24\"\n",
              "       width=\"24px\">\n",
              "    <path d=\"M0 0h24v24H0V0z\" fill=\"none\"/>\n",
              "    <path d=\"M18.56 5.44l.94 2.06.94-2.06 2.06-.94-2.06-.94-.94-2.06-.94 2.06-2.06.94zm-11 1L8.5 8.5l.94-2.06 2.06-.94-2.06-.94L8.5 2.5l-.94 2.06-2.06.94zm10 10l.94 2.06.94-2.06 2.06-.94-2.06-.94-.94-2.06-.94 2.06-2.06.94z\"/><path d=\"M17.41 7.96l-1.37-1.37c-.4-.4-.92-.59-1.43-.59-.52 0-1.04.2-1.43.59L10.3 9.45l-7.72 7.72c-.78.78-.78 2.05 0 2.83L4 21.41c.39.39.9.59 1.41.59.51 0 1.02-.2 1.41-.59l7.78-7.78 2.81-2.81c.8-.78.8-2.07 0-2.86zM5.41 20L4 18.59l7.72-7.72 1.47 1.35L5.41 20z\"/>\n",
              "  </svg>\n",
              "      </button>\n",
              "      \n",
              "  <style>\n",
              "    .colab-df-container {\n",
              "      display:flex;\n",
              "      flex-wrap:wrap;\n",
              "      gap: 12px;\n",
              "    }\n",
              "\n",
              "    .colab-df-convert {\n",
              "      background-color: #E8F0FE;\n",
              "      border: none;\n",
              "      border-radius: 50%;\n",
              "      cursor: pointer;\n",
              "      display: none;\n",
              "      fill: #1967D2;\n",
              "      height: 32px;\n",
              "      padding: 0 0 0 0;\n",
              "      width: 32px;\n",
              "    }\n",
              "\n",
              "    .colab-df-convert:hover {\n",
              "      background-color: #E2EBFA;\n",
              "      box-shadow: 0px 1px 2px rgba(60, 64, 67, 0.3), 0px 1px 3px 1px rgba(60, 64, 67, 0.15);\n",
              "      fill: #174EA6;\n",
              "    }\n",
              "\n",
              "    [theme=dark] .colab-df-convert {\n",
              "      background-color: #3B4455;\n",
              "      fill: #D2E3FC;\n",
              "    }\n",
              "\n",
              "    [theme=dark] .colab-df-convert:hover {\n",
              "      background-color: #434B5C;\n",
              "      box-shadow: 0px 1px 3px 1px rgba(0, 0, 0, 0.15);\n",
              "      filter: drop-shadow(0px 1px 2px rgba(0, 0, 0, 0.3));\n",
              "      fill: #FFFFFF;\n",
              "    }\n",
              "  </style>\n",
              "\n",
              "      <script>\n",
              "        const buttonEl =\n",
              "          document.querySelector('#df-97ffbdda-f5cf-45ed-9052-4cf3c6f7475f button.colab-df-convert');\n",
              "        buttonEl.style.display =\n",
              "          google.colab.kernel.accessAllowed ? 'block' : 'none';\n",
              "\n",
              "        async function convertToInteractive(key) {\n",
              "          const element = document.querySelector('#df-97ffbdda-f5cf-45ed-9052-4cf3c6f7475f');\n",
              "          const dataTable =\n",
              "            await google.colab.kernel.invokeFunction('convertToInteractive',\n",
              "                                                     [key], {});\n",
              "          if (!dataTable) return;\n",
              "\n",
              "          const docLinkHtml = 'Like what you see? Visit the ' +\n",
              "            '<a target=\"_blank\" href=https://colab.research.google.com/notebooks/data_table.ipynb>data table notebook</a>'\n",
              "            + ' to learn more about interactive tables.';\n",
              "          element.innerHTML = '';\n",
              "          dataTable['output_type'] = 'display_data';\n",
              "          await google.colab.output.renderOutput(dataTable, element);\n",
              "          const docLink = document.createElement('div');\n",
              "          docLink.innerHTML = docLinkHtml;\n",
              "          element.appendChild(docLink);\n",
              "        }\n",
              "      </script>\n",
              "    </div>\n",
              "  </div>\n",
              "  "
            ]
          },
          "metadata": {},
          "execution_count": 5
        }
      ]
    },
    {
      "cell_type": "code",
      "source": [
        "gett_df.describe()"
      ],
      "metadata": {
        "colab": {
          "base_uri": "https://localhost:8080/",
          "height": 300
        },
        "id": "WFR1K26KX01W",
        "outputId": "2128e697-48ca-492b-eecc-7575d692d9c7"
      },
      "execution_count": 6,
      "outputs": [
        {
          "output_type": "execute_result",
          "data": {
            "text/plain": [
              "          Unnamed: 0        user_id          hour  app_opened  price_seen  \\\n",
              "count   91431.000000   91431.000000  91431.000000     91431.0     91431.0   \n",
              "mean    50805.945325  550108.136114     11.481204         1.0         1.0   \n",
              "std     29272.292410  258534.002859      6.921583         0.0         0.0   \n",
              "min         0.000000  100093.000000      0.000000         1.0         1.0   \n",
              "25%     25462.000000  328294.000000      5.000000         1.0         1.0   \n",
              "50%     50836.000000  549215.000000     11.000000         1.0         1.0   \n",
              "75%     76148.500000  773095.000000     17.000000         1.0         1.0   \n",
              "max    101499.000000  999978.000000     23.000000         1.0         1.0   \n",
              "\n",
              "         order_made  ride_completed  user_cancelled  city_center_order  \\\n",
              "count  91431.000000    91431.000000    91431.000000       91431.000000   \n",
              "mean       0.811935        0.688683        0.123251           0.580667   \n",
              "std        0.390766        0.463035        0.328727           0.493453   \n",
              "min        0.000000        0.000000        0.000000           0.000000   \n",
              "25%        1.000000        0.000000        0.000000           0.000000   \n",
              "50%        1.000000        1.000000        0.000000           1.000000   \n",
              "75%        1.000000        1.000000        0.000000           1.000000   \n",
              "max        1.000000        1.000000        1.000000           1.000000   \n",
              "\n",
              "           distance           age  \n",
              "count  91431.000000  91431.000000  \n",
              "mean       5.371152     25.876464  \n",
              "std        4.118531      7.794166  \n",
              "min        0.010946     18.000000  \n",
              "25%        2.438335     20.000000  \n",
              "50%        4.279565     24.000000  \n",
              "75%        7.129814     29.000000  \n",
              "max       40.268966     69.000000  "
            ],
            "text/html": [
              "\n",
              "  <div id=\"df-c6214b01-ee74-4cf3-aaf2-0c086be815b9\">\n",
              "    <div class=\"colab-df-container\">\n",
              "      <div>\n",
              "<style scoped>\n",
              "    .dataframe tbody tr th:only-of-type {\n",
              "        vertical-align: middle;\n",
              "    }\n",
              "\n",
              "    .dataframe tbody tr th {\n",
              "        vertical-align: top;\n",
              "    }\n",
              "\n",
              "    .dataframe thead th {\n",
              "        text-align: right;\n",
              "    }\n",
              "</style>\n",
              "<table border=\"1\" class=\"dataframe\">\n",
              "  <thead>\n",
              "    <tr style=\"text-align: right;\">\n",
              "      <th></th>\n",
              "      <th>Unnamed: 0</th>\n",
              "      <th>user_id</th>\n",
              "      <th>hour</th>\n",
              "      <th>app_opened</th>\n",
              "      <th>price_seen</th>\n",
              "      <th>order_made</th>\n",
              "      <th>ride_completed</th>\n",
              "      <th>user_cancelled</th>\n",
              "      <th>city_center_order</th>\n",
              "      <th>distance</th>\n",
              "      <th>age</th>\n",
              "    </tr>\n",
              "  </thead>\n",
              "  <tbody>\n",
              "    <tr>\n",
              "      <th>count</th>\n",
              "      <td>91431.000000</td>\n",
              "      <td>91431.000000</td>\n",
              "      <td>91431.000000</td>\n",
              "      <td>91431.0</td>\n",
              "      <td>91431.0</td>\n",
              "      <td>91431.000000</td>\n",
              "      <td>91431.000000</td>\n",
              "      <td>91431.000000</td>\n",
              "      <td>91431.000000</td>\n",
              "      <td>91431.000000</td>\n",
              "      <td>91431.000000</td>\n",
              "    </tr>\n",
              "    <tr>\n",
              "      <th>mean</th>\n",
              "      <td>50805.945325</td>\n",
              "      <td>550108.136114</td>\n",
              "      <td>11.481204</td>\n",
              "      <td>1.0</td>\n",
              "      <td>1.0</td>\n",
              "      <td>0.811935</td>\n",
              "      <td>0.688683</td>\n",
              "      <td>0.123251</td>\n",
              "      <td>0.580667</td>\n",
              "      <td>5.371152</td>\n",
              "      <td>25.876464</td>\n",
              "    </tr>\n",
              "    <tr>\n",
              "      <th>std</th>\n",
              "      <td>29272.292410</td>\n",
              "      <td>258534.002859</td>\n",
              "      <td>6.921583</td>\n",
              "      <td>0.0</td>\n",
              "      <td>0.0</td>\n",
              "      <td>0.390766</td>\n",
              "      <td>0.463035</td>\n",
              "      <td>0.328727</td>\n",
              "      <td>0.493453</td>\n",
              "      <td>4.118531</td>\n",
              "      <td>7.794166</td>\n",
              "    </tr>\n",
              "    <tr>\n",
              "      <th>min</th>\n",
              "      <td>0.000000</td>\n",
              "      <td>100093.000000</td>\n",
              "      <td>0.000000</td>\n",
              "      <td>1.0</td>\n",
              "      <td>1.0</td>\n",
              "      <td>0.000000</td>\n",
              "      <td>0.000000</td>\n",
              "      <td>0.000000</td>\n",
              "      <td>0.000000</td>\n",
              "      <td>0.010946</td>\n",
              "      <td>18.000000</td>\n",
              "    </tr>\n",
              "    <tr>\n",
              "      <th>25%</th>\n",
              "      <td>25462.000000</td>\n",
              "      <td>328294.000000</td>\n",
              "      <td>5.000000</td>\n",
              "      <td>1.0</td>\n",
              "      <td>1.0</td>\n",
              "      <td>1.000000</td>\n",
              "      <td>0.000000</td>\n",
              "      <td>0.000000</td>\n",
              "      <td>0.000000</td>\n",
              "      <td>2.438335</td>\n",
              "      <td>20.000000</td>\n",
              "    </tr>\n",
              "    <tr>\n",
              "      <th>50%</th>\n",
              "      <td>50836.000000</td>\n",
              "      <td>549215.000000</td>\n",
              "      <td>11.000000</td>\n",
              "      <td>1.0</td>\n",
              "      <td>1.0</td>\n",
              "      <td>1.000000</td>\n",
              "      <td>1.000000</td>\n",
              "      <td>0.000000</td>\n",
              "      <td>1.000000</td>\n",
              "      <td>4.279565</td>\n",
              "      <td>24.000000</td>\n",
              "    </tr>\n",
              "    <tr>\n",
              "      <th>75%</th>\n",
              "      <td>76148.500000</td>\n",
              "      <td>773095.000000</td>\n",
              "      <td>17.000000</td>\n",
              "      <td>1.0</td>\n",
              "      <td>1.0</td>\n",
              "      <td>1.000000</td>\n",
              "      <td>1.000000</td>\n",
              "      <td>0.000000</td>\n",
              "      <td>1.000000</td>\n",
              "      <td>7.129814</td>\n",
              "      <td>29.000000</td>\n",
              "    </tr>\n",
              "    <tr>\n",
              "      <th>max</th>\n",
              "      <td>101499.000000</td>\n",
              "      <td>999978.000000</td>\n",
              "      <td>23.000000</td>\n",
              "      <td>1.0</td>\n",
              "      <td>1.0</td>\n",
              "      <td>1.000000</td>\n",
              "      <td>1.000000</td>\n",
              "      <td>1.000000</td>\n",
              "      <td>1.000000</td>\n",
              "      <td>40.268966</td>\n",
              "      <td>69.000000</td>\n",
              "    </tr>\n",
              "  </tbody>\n",
              "</table>\n",
              "</div>\n",
              "      <button class=\"colab-df-convert\" onclick=\"convertToInteractive('df-c6214b01-ee74-4cf3-aaf2-0c086be815b9')\"\n",
              "              title=\"Convert this dataframe to an interactive table.\"\n",
              "              style=\"display:none;\">\n",
              "        \n",
              "  <svg xmlns=\"http://www.w3.org/2000/svg\" height=\"24px\"viewBox=\"0 0 24 24\"\n",
              "       width=\"24px\">\n",
              "    <path d=\"M0 0h24v24H0V0z\" fill=\"none\"/>\n",
              "    <path d=\"M18.56 5.44l.94 2.06.94-2.06 2.06-.94-2.06-.94-.94-2.06-.94 2.06-2.06.94zm-11 1L8.5 8.5l.94-2.06 2.06-.94-2.06-.94L8.5 2.5l-.94 2.06-2.06.94zm10 10l.94 2.06.94-2.06 2.06-.94-2.06-.94-.94-2.06-.94 2.06-2.06.94z\"/><path d=\"M17.41 7.96l-1.37-1.37c-.4-.4-.92-.59-1.43-.59-.52 0-1.04.2-1.43.59L10.3 9.45l-7.72 7.72c-.78.78-.78 2.05 0 2.83L4 21.41c.39.39.9.59 1.41.59.51 0 1.02-.2 1.41-.59l7.78-7.78 2.81-2.81c.8-.78.8-2.07 0-2.86zM5.41 20L4 18.59l7.72-7.72 1.47 1.35L5.41 20z\"/>\n",
              "  </svg>\n",
              "      </button>\n",
              "      \n",
              "  <style>\n",
              "    .colab-df-container {\n",
              "      display:flex;\n",
              "      flex-wrap:wrap;\n",
              "      gap: 12px;\n",
              "    }\n",
              "\n",
              "    .colab-df-convert {\n",
              "      background-color: #E8F0FE;\n",
              "      border: none;\n",
              "      border-radius: 50%;\n",
              "      cursor: pointer;\n",
              "      display: none;\n",
              "      fill: #1967D2;\n",
              "      height: 32px;\n",
              "      padding: 0 0 0 0;\n",
              "      width: 32px;\n",
              "    }\n",
              "\n",
              "    .colab-df-convert:hover {\n",
              "      background-color: #E2EBFA;\n",
              "      box-shadow: 0px 1px 2px rgba(60, 64, 67, 0.3), 0px 1px 3px 1px rgba(60, 64, 67, 0.15);\n",
              "      fill: #174EA6;\n",
              "    }\n",
              "\n",
              "    [theme=dark] .colab-df-convert {\n",
              "      background-color: #3B4455;\n",
              "      fill: #D2E3FC;\n",
              "    }\n",
              "\n",
              "    [theme=dark] .colab-df-convert:hover {\n",
              "      background-color: #434B5C;\n",
              "      box-shadow: 0px 1px 3px 1px rgba(0, 0, 0, 0.15);\n",
              "      filter: drop-shadow(0px 1px 2px rgba(0, 0, 0, 0.3));\n",
              "      fill: #FFFFFF;\n",
              "    }\n",
              "  </style>\n",
              "\n",
              "      <script>\n",
              "        const buttonEl =\n",
              "          document.querySelector('#df-c6214b01-ee74-4cf3-aaf2-0c086be815b9 button.colab-df-convert');\n",
              "        buttonEl.style.display =\n",
              "          google.colab.kernel.accessAllowed ? 'block' : 'none';\n",
              "\n",
              "        async function convertToInteractive(key) {\n",
              "          const element = document.querySelector('#df-c6214b01-ee74-4cf3-aaf2-0c086be815b9');\n",
              "          const dataTable =\n",
              "            await google.colab.kernel.invokeFunction('convertToInteractive',\n",
              "                                                     [key], {});\n",
              "          if (!dataTable) return;\n",
              "\n",
              "          const docLinkHtml = 'Like what you see? Visit the ' +\n",
              "            '<a target=\"_blank\" href=https://colab.research.google.com/notebooks/data_table.ipynb>data table notebook</a>'\n",
              "            + ' to learn more about interactive tables.';\n",
              "          element.innerHTML = '';\n",
              "          dataTable['output_type'] = 'display_data';\n",
              "          await google.colab.output.renderOutput(dataTable, element);\n",
              "          const docLink = document.createElement('div');\n",
              "          docLink.innerHTML = docLinkHtml;\n",
              "          element.appendChild(docLink);\n",
              "        }\n",
              "      </script>\n",
              "    </div>\n",
              "  </div>\n",
              "  "
            ]
          },
          "metadata": {},
          "execution_count": 6
        }
      ]
    },
    {
      "cell_type": "markdown",
      "source": [
        "Пункт первый. Расчет среднего."
      ],
      "metadata": {
        "id": "jbQuRsLWvAjh"
      }
    },
    {
      "cell_type": "code",
      "source": [
        "print('Средний час -', np.mean(gett_df['hour']))\n",
        "print('Средняя дистанция -', np.mean(gett_df['distance']))\n",
        "print('Средний возраст -', np.mean(gett_df['age']))\n",
        "print('Среднее принятие заказов -', np.mean(gett_df['order_made']))\n",
        "print('Среднее завершение поездки -', np.mean(gett_df['ride_completed']))\n"
      ],
      "metadata": {
        "colab": {
          "base_uri": "https://localhost:8080/"
        },
        "id": "VnxrHS-KW7xQ",
        "outputId": "69c313e9-466e-4d7a-b0f6-3b7031a2e62b"
      },
      "execution_count": 14,
      "outputs": [
        {
          "output_type": "stream",
          "name": "stdout",
          "text": [
            "Средний час - 11.48120440550798\n",
            "Средняя дистанция - 5.371151996435671\n",
            "Средний возраст - 25.876464218919185\n",
            "Среднее принятие заказов - 0.8119346829849832\n",
            "Среднее завершение поездки - 0.6886832693506578\n"
          ]
        }
      ]
    },
    {
      "cell_type": "markdown",
      "source": [
        "Пункт второй.Расчет медианы."
      ],
      "metadata": {
        "id": "JznMIQXLacVb"
      }
    },
    {
      "cell_type": "code",
      "source": [
        "print('Медиана. час -', gett_df['hour'].median())\n",
        "print('Медиана. дистанция -', gett_df['distance'].median())\n",
        "print('Медиана. возраст -', gett_df['age'].median())\n",
        "print('Медиана. принятие заказа -', gett_df['order_made'].median())\n",
        "print('Медиана. завершение поездки -', gett_df['ride_completed'].median())"
      ],
      "metadata": {
        "colab": {
          "base_uri": "https://localhost:8080/"
        },
        "id": "1kOI8PZhajOe",
        "outputId": "82809e8a-67ce-478b-83bc-b53ec4d18209"
      },
      "execution_count": 18,
      "outputs": [
        {
          "output_type": "stream",
          "name": "stdout",
          "text": [
            "Медиана. час - 11.0\n",
            "Медиана. дистанция - 4.279564564612159\n",
            "Медиана. возраст - 24.0\n",
            "Медиана. принятие заказа - 1.0\n",
            "Медиана. завершение поездки - 1.0\n"
          ]
        }
      ]
    },
    {
      "cell_type": "markdown",
      "source": [
        "Пункт третий.Расчет 95-персентиля."
      ],
      "metadata": {
        "id": "r0RHuwp_bMPs"
      }
    },
    {
      "cell_type": "code",
      "source": [
        "print('95-персентиль, час -', gett_df['hour'].quantile(0.95))\n",
        "print('95-персентиль, дистанция -', gett_df['distance'].quantile(0.95))\n",
        "print('95-персентиль, возраст -', gett_df['age'].quantile(0.95))\n",
        "print('95-персентиль, принятие заказа -', gett_df['order_made'].quantile(0.95))\n",
        "print('95-персентиль, завершение поездки -', gett_df['ride_completed'].quantile(0.95))"
      ],
      "metadata": {
        "colab": {
          "base_uri": "https://localhost:8080/"
        },
        "id": "aTOKGm7ebgYz",
        "outputId": "593c793f-21ef-4a60-d011-339a41fc7645"
      },
      "execution_count": 31,
      "outputs": [
        {
          "output_type": "stream",
          "name": "stdout",
          "text": [
            "95-персентиль, час - 22.0\n",
            "95-персентиль, дистанция - 13.694289876456235\n",
            "95-персентиль, возраст - 42.0\n",
            "95-персентиль, принятие заказа - 1.0\n",
            "95-персентиль, завершение поездки - 1.0\n"
          ]
        }
      ]
    },
    {
      "cell_type": "markdown",
      "source": [
        "Пункт четвертый.Графики частот и Boxplot"
      ],
      "metadata": {
        "id": "RM42XqmieVRf"
      }
    },
    {
      "cell_type": "code",
      "source": [
        "plt.title('График распределения частот - час')\n",
        "plt.xlabel('Час')\n",
        "plt.ylabel('Вероятность')\n",
        "plt.hist(gett_df['hour'], density=True)"
      ],
      "metadata": {
        "colab": {
          "base_uri": "https://localhost:8080/",
          "height": 365
        },
        "id": "AQI6Y7Wsjkq3",
        "outputId": "c9a53ed4-98a2-4041-ec40-b899b8e7930d"
      },
      "execution_count": 67,
      "outputs": [
        {
          "output_type": "execute_result",
          "data": {
            "text/plain": [
              "(array([0.05415345, 0.03672049, 0.03672525, 0.05424856, 0.03615937,\n",
              "        0.03656832, 0.05386338, 0.03598342, 0.03572188, 0.05463849]),\n",
              " array([ 0. ,  2.3,  4.6,  6.9,  9.2, 11.5, 13.8, 16.1, 18.4, 20.7, 23. ]),\n",
              " <a list of 10 Patch objects>)"
            ]
          },
          "metadata": {},
          "execution_count": 67
        },
        {
          "output_type": "display_data",
          "data": {
            "text/plain": [
              "<Figure size 432x288 with 1 Axes>"
            ],
            "image/png": "[encoded data removed]"
          },
          "metadata": {
            "needs_background": "light"
          }
        }
      ]
    },
    {
      "cell_type": "code",
      "source": [
        "plt.title('График распределения частот - дистанция')\n",
        "plt.xlabel('Дистанция')\n",
        "plt.ylabel('Вероятность')\n",
        "plt.hist(gett_df['distance'], density=True)"
      ],
      "metadata": {
        "colab": {
          "base_uri": "https://localhost:8080/",
          "height": 416
        },
        "id": "qhOkk2TpkErl",
        "outputId": "54c957e0-d189-410e-9704-c5abc6bf7550"
      },
      "execution_count": 68,
      "outputs": [
        {
          "output_type": "execute_result",
          "data": {
            "text/plain": [
              "(array([1.16837747e-01, 8.22205641e-02, 3.07403411e-02, 1.20217419e-02,\n",
              "        4.42563108e-03, 1.60561570e-03, 4.04799896e-04, 1.19538224e-04,\n",
              "        1.35838891e-05, 8.15033348e-06]),\n",
              " array([1.09464561e-02, 4.03674841e+00, 8.06255036e+00, 1.20883523e+01,\n",
              "        1.61141543e+01, 2.01399562e+01, 2.41657582e+01, 2.81915601e+01,\n",
              "        3.22173621e+01, 3.62431640e+01, 4.02689660e+01]),\n",
              " <a list of 10 Patch objects>)"
            ]
          },
          "metadata": {},
          "execution_count": 68
        },
        {
          "output_type": "display_data",
          "data": {
            "text/plain": [
              "<Figure size 432x288 with 1 Axes>"
            ],
            "image/png": "[encoded data removed]"
          },
          "metadata": {
            "needs_background": "light"
          }
        }
      ]
    },
    {
      "cell_type": "code",
      "source": [
        "plt.title('График распределения частот - возраст')\n",
        "plt.xlabel('Возраст')\n",
        "plt.ylabel('Вероятность')\n",
        "plt.hist(gett_df['age'], density=True)"
      ],
      "metadata": {
        "colab": {
          "base_uri": "https://localhost:8080/",
          "height": 365
        },
        "id": "zVyuUhzAk1W7",
        "outputId": "6180fa99-8197-4a58-c36d-b01b7269d07d"
      },
      "execution_count": 69,
      "outputs": [
        {
          "output_type": "execute_result",
          "data": {
            "text/plain": [
              "(array([0.09793949, 0.04414129, 0.02404685, 0.01435562, 0.00746518,\n",
              "        0.00427838, 0.00229467, 0.00119666, 0.0002359 , 0.00012438]),\n",
              " array([18. , 23.1, 28.2, 33.3, 38.4, 43.5, 48.6, 53.7, 58.8, 63.9, 69. ]),\n",
              " <a list of 10 Patch objects>)"
            ]
          },
          "metadata": {},
          "execution_count": 69
        },
        {
          "output_type": "display_data",
          "data": {
            "text/plain": [
              "<Figure size 432x288 with 1 Axes>"
            ],
            "image/png": "[encoded data removed]"
          },
          "metadata": {
            "needs_background": "light"
          }
        }
      ]
    },
    {
      "cell_type": "code",
      "source": [
        "plt.title('График распределения частот - Принятый заказ')\n",
        "plt.xlabel('Принятый заказ')\n",
        "plt.ylabel('Вероятность')\n",
        "plt.hist(gett_df['order_made'])"
      ],
      "metadata": {
        "colab": {
          "base_uri": "https://localhost:8080/",
          "height": 365
        },
        "id": "_v0TQcUxk84J",
        "outputId": "2a5e3f3b-25e6-4642-d090-2f1873e1563d"
      },
      "execution_count": 70,
      "outputs": [
        {
          "output_type": "execute_result",
          "data": {
            "text/plain": [
              "(array([17195.,     0.,     0.,     0.,     0.,     0.,     0.,     0.,\n",
              "            0., 74236.]),\n",
              " array([0. , 0.1, 0.2, 0.3, 0.4, 0.5, 0.6, 0.7, 0.8, 0.9, 1. ]),\n",
              " <a list of 10 Patch objects>)"
            ]
          },
          "metadata": {},
          "execution_count": 70
        },
        {
          "output_type": "display_data",
          "data": {
            "text/plain": [
              "<Figure size 432x288 with 1 Axes>"
            ],
            "image/png": "[encoded data removed]"
          },
          "metadata": {
            "needs_background": "light"
          }
        }
      ]
    },
    {
      "cell_type": "code",
      "source": [
        "plt.title('График распределения частот - Завершенный вызов')\n",
        "plt.xlabel('Завершенный вызов')\n",
        "plt.ylabel('Вероятность')\n",
        "plt.hist(gett_df['ride_completed'])"
      ],
      "metadata": {
        "colab": {
          "base_uri": "https://localhost:8080/",
          "height": 365
        },
        "id": "Fg1-Pe3llK4l",
        "outputId": "d0b5eaa8-2e5c-4ed7-cd1f-63e5cb3fa544"
      },
      "execution_count": 71,
      "outputs": [
        {
          "output_type": "execute_result",
          "data": {
            "text/plain": [
              "(array([28464.,     0.,     0.,     0.,     0.,     0.,     0.,     0.,\n",
              "            0., 62967.]),\n",
              " array([0. , 0.1, 0.2, 0.3, 0.4, 0.5, 0.6, 0.7, 0.8, 0.9, 1. ]),\n",
              " <a list of 10 Patch objects>)"
            ]
          },
          "metadata": {},
          "execution_count": 71
        },
        {
          "output_type": "display_data",
          "data": {
            "text/plain": [
              "<Figure size 432x288 with 1 Axes>"
            ],
            "image/png": "[encoded data removed]"
          },
          "metadata": {
            "needs_background": "light"
          }
        }
      ]
    },
    {
      "cell_type": "code",
      "source": [
        "plt.boxplot([gett_df.hour , gett_df.distance , gett_df.age , gett_df.order_made , gett_df.ride_completed ] , labels = ['Час' , 'Дистанция' , 'Возраст' , 'Принятие' , 'Завершение' ])\n",
        "plt.show()"
      ],
      "metadata": {
        "colab": {
          "base_uri": "https://localhost:8080/",
          "height": 265
        },
        "id": "cDswMfiDgC6q",
        "outputId": "4e856f64-1623-4255-b3ea-59771055bb6c"
      },
      "execution_count": 45,
      "outputs": [
        {
          "output_type": "display_data",
          "data": {
            "text/plain": [
              "<Figure size 432x288 with 1 Axes>"
            ],
            "image/png": "[encoded data removed]"
          },
          "metadata": {
            "needs_background": "light"
          }
        }
      ]
    }
  ]
}